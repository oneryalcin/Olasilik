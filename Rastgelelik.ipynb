{
 "cells": [
  {
   "cell_type": "markdown",
   "metadata": {},
   "source": [
    "# Rastgele Ne Kadar Rastgele"
   ]
  },
  {
   "cell_type": "markdown",
   "metadata": {},
   "source": [
    "Sevgili dostum Tevfik Uyarin rastgeleligi anlatirken verdigi ornegi biraz daha ayrintili olrak burada incelemek istiyorum. \n",
    "\n",
    "Tevfik sorusuni asagidaki tweeter feedinde soyle aciklamis:"
   ]
  },
  {
   "cell_type": "code",
   "execution_count": 1,
   "metadata": {},
   "outputs": [
    {
     "data": {
      "text/html": [
       "<blockquote class=\"twitter-tweet\" data-lang=\"en\"><p lang=\"tr\" dir=\"ltr\">Bir yılda ortalama 20 adet uçak kazası gerçekleşiyorsa eğer, tamamen rasgelelik durumunda yılda bir kaç defa art arda (ya da aynı haftada) olabilir. 6 adet denemeye ait bilgi ekte: Grafikte altı denemede 1-365 arasında seçilmiş rasgele 20&#39;şer sayı görünüyor. Değerler diğerinde. <a href=\"https://t.co/POo5cuXYjE\">pic.twitter.com/POo5cuXYjE</a></p>&mdash; Tevfik Uyar (@tevfik_uyar) <a href=\"https://twitter.com/tevfik_uyar/status/973316792759107584?ref_src=twsrc%5Etfw\">March 12, 2018</a></blockquote>\n",
       "<script async src=\"https://platform.twitter.com/widgets.js\" charset=\"utf-8\"></script>"
      ],
      "text/plain": [
       "<IPython.core.display.HTML object>"
      ]
     },
     "metadata": {},
     "output_type": "display_data"
    }
   ],
   "source": [
    "%%html\n",
    "<blockquote class=\"twitter-tweet\" data-lang=\"en\"><p lang=\"tr\" dir=\"ltr\">Bir yılda ortalama 20 adet uçak kazası gerçekleşiyorsa eğer, tamamen rasgelelik durumunda yılda bir kaç defa art arda (ya da aynı haftada) olabilir. 6 adet denemeye ait bilgi ekte: Grafikte altı denemede 1-365 arasında seçilmiş rasgele 20&#39;şer sayı görünüyor. Değerler diğerinde. <a href=\"https://t.co/POo5cuXYjE\">pic.twitter.com/POo5cuXYjE</a></p>&mdash; Tevfik Uyar (@tevfik_uyar) <a href=\"https://twitter.com/tevfik_uyar/status/973316792759107584?ref_src=twsrc%5Etfw\">March 12, 2018</a></blockquote>\n",
    "<script async src=\"https://platform.twitter.com/widgets.js\" charset=\"utf-8\"></script>\n"
   ]
  },
  {
   "cell_type": "markdown",
   "metadata": {},
   "source": [
    "Tevfik'in belirtmek istedigi insanlarin rastgelelik algisi ile matematiksel rastgeleligin ortusmeyebilecegi. Matematiksel olarak tamamen rastgele bir diziden secilen sayilarin birbirlerine yakin olmasi insan sezgisine rastgele gibi gelmese bile bu durum matematiksel anlamda gayet normal olabilir. Yukaridaki ornekte 1 ile 365 arasinda ucak kazasi oldugunu varsaydigimiz 20 rastgele sayi seciliyor ve de bazi durumlarda iki sayinin arasindaki fark gercekten de az olabilir. Asagida bu durumu rastgele seriler ureterek aciklamaya calisacagiz. "
   ]
  },
  {
   "cell_type": "markdown",
   "metadata": {},
   "source": [
    "### Kisa Matematiksel Referans (Tamamen opsiyonel, tedirgin ederse geciniz)"
   ]
  },
  {
   "cell_type": "markdown",
   "metadata": {},
   "source": [
    "En unlu olasilik dagilimlarindan bir tanesi de **Poisson** dagilimidir. **Poisson** dagilimi verilen bir $\\lambda$ degerine gore (ki burada $\\lambda$ ortalama beklentidir) belli bir zaman icerisinde kac tane olayin gerceklesecegini ifade eder. Bir ornekle aciklamak gerekirse:  Ornegin bir lokantaya saatte ortalama 20 musterinin geldigini varsayalim yani $\\lambda=20$. Fakat her saatte tam olarak 20 musteri gelmesini beklemeyiz, bazen 15 musteri gelirken bazen 30 musteri de gelebilir, ama uzun zamanda saatte ortalama 20 musteri oldugunu varsayalim.  **Poisson** dagilimi bize hangi olasilikla bir saate 15ten az ya da 30dan fazla musteri gelebilecegini aciklar, ya da belli bir zaman icinde, ornegin 30 dakikada 10 musteri gelme olasiligini verir.\n",
    "\n",
    "**Poisson** dagilimi bize belli zamanda gelecek musteri sayisini verirken **ustel** dagilim da ardisik iki musteri arasindaki zaman dagilimini verir. \n",
    "Ornegimizi dusunecek olursak saate 20 musteri lokandamiza gelmektedir. Bu da ortalama her 3 dakikada bir musterinin gelecegini anlamina gelir. Ancak biliyoruz ki iki musteri arasindaki zamanin uc dakikadan az ya da cok olmasi da olasidir. Bizim ornegimizde saatte 20 musterinin geldigi bir restoranda **Ustel** dagilim iki musteri arasindaki gelme zamanini verecektir. \n",
    "\n",
    "Yukarida anlatilanlar kafanizi karistirdiysa korkmayin. Asagida bu durumu matematik olmadan sadece simulasyon yardimiyla cozmeye calisacagiz. Ancak Tevfik'in tanimaldigi problemi tekrarlamak gerekirse:\n",
    "\n",
    "> ***Bir yil (=365 gun) icerisinde ortalama 20 ucak kazasinin gerceklestigini varsayalim. Iki ucak kazasinin ardarda (ya da cok kisa zaman araligi) icerinde olmasi olasi midir?***\n",
    "\n",
    "Bu durumda Ucak kazalarini **Poisson** dagilimi olarak modelleyebiliriz. $\\lambda=20$.\n",
    "\n",
    "\n",
    "Poisson dagilimindaki onemli bir kosul gerceklesen olaylarin birbirinden bagimsiz olmasi gerektigidir. Yani ornegimizde bir ucak kazasinin digerini tetiklemedigini kabul ediyoruz. Yani 365 gunluk bir diziden secilen br rakam bir sonraki secilecek sayinin olasiligini herhangi bir sekilde etkilemiyor.  "
   ]
  },
  {
   "cell_type": "markdown",
   "metadata": {},
   "source": [
    "### Simulasyon Yontemi"
   ]
  },
  {
   "cell_type": "markdown",
   "metadata": {},
   "source": [
    "Ucak kazasi problemini analitik olarak cozmemiz mumkun ancak burada rastgeleligi daha ayrintili gorebilmek adina simulasyonu tercih edecegim. Simulasyonumuz soyle:\n",
    "\n",
    "1. 365 gun icinden 20 rastgele sayi sececegiz. Bunlar ucak kazasi olan gunler.\n",
    "2. Bu 20 gunu kucukten buyuge siraladiktan sonra kazalar arasindaki gun farkini bulacagiz\n",
    "3. Bunu bircok defa (10000 kez) tekrarlayacagiz. \n",
    "4. Elde ettigimiz ucak kazasi gun farki dizisini inceleyecegiz. "
   ]
  },
  {
   "cell_type": "markdown",
   "metadata": {},
   "source": [
    "Daha acik olmasi icin bir yil icin ilk iki maddeyi inceleyelim. "
   ]
  },
  {
   "cell_type": "code",
   "execution_count": 2,
   "metadata": {},
   "outputs": [],
   "source": [
    "# Simulasyon icin Python dilini, Numpy ve matplotlib kutuphanelerini kullanacagiz.\n",
    "# bu hucredeki kod bu kutuphaneleri calisma alanimiza yukluyor\n",
    "\n",
    "import numpy as np \n",
    "import matplotlib.pyplot as plt\n",
    "%matplotlib inline\n",
    "\n",
    "# Bu simulasyonu tekrarlamak isteyenler icin de seed'i bir degere \n",
    "#sabitliyorum. (bu satir kafanizi karistirdiysa umursamayin, sadece \n",
    "# Pythonun sozde rastgelelik (Psudorandom) ozellgiinden faydalaniyorum)\n",
    "np.random.seed(0)"
   ]
  },
  {
   "cell_type": "markdown",
   "metadata": {},
   "source": [
    "365 gun icinden kazanin oldugunu varsaydigimiz rastgele 20 gun secelim"
   ]
  },
  {
   "cell_type": "code",
   "execution_count": 3,
   "metadata": {},
   "outputs": [
    {
     "data": {
      "text/plain": [
       "array([173,  48, 118, 193, 324, 252, 196, 360,  10, 212, 278, 243, 293,\n",
       "        88,  71,  89, 315, 194,  40,  88])"
      ]
     },
     "execution_count": 3,
     "metadata": {},
     "output_type": "execute_result"
    }
   ],
   "source": [
    "# 365i secmek icin bir fazlasini tavan degeri olarak girmek gerekiyor \n",
    "ucak_kazasi_gunleri = np.random.randint(1, 365+1, 20)\n",
    "ucak_kazasi_gunleri"
   ]
  },
  {
   "cell_type": "markdown",
   "metadata": {},
   "source": [
    "Kaza gunlerini kucukten buyuge dogru dizelim"
   ]
  },
  {
   "cell_type": "code",
   "execution_count": 4,
   "metadata": {},
   "outputs": [
    {
     "data": {
      "text/plain": [
       "array([ 10,  40,  48,  71,  88,  88,  89, 118, 173, 193, 194, 196, 212,\n",
       "       243, 252, 278, 293, 315, 324, 360])"
      ]
     },
     "execution_count": 4,
     "metadata": {},
     "output_type": "execute_result"
    }
   ],
   "source": [
    "ucak_kazasi_gunleri.sort()\n",
    "ucak_kazasi_gunleri"
   ]
  },
  {
   "cell_type": "markdown",
   "metadata": {},
   "source": [
    "Kazalar arasindaki gun farklarini bulalim"
   ]
  },
  {
   "cell_type": "code",
   "execution_count": 5,
   "metadata": {},
   "outputs": [
    {
     "data": {
      "text/plain": [
       "array([30,  8, 23, 17,  0,  1, 29, 55, 20,  1,  2, 16, 31,  9, 26, 15, 22,\n",
       "        9, 36])"
      ]
     },
     "execution_count": 5,
     "metadata": {},
     "output_type": "execute_result"
    }
   ],
   "source": [
    "gun_farklari = np.roll(ucak_kazasi_gunleri, shift=-1)[:-1] - ucak_kazasi_gunleri[:-1]\n",
    "gun_farklari"
   ]
  },
  {
   "cell_type": "markdown",
   "metadata": {},
   "source": [
    "Yukarida goruldugu uzere rastgele secilen bir sette bir yil icerisinde 3 kazanin iki gun icerisinde (88. ve 89.gunler) oldugunu goruyoruz. Bu durum aslinda kazalarin ardarda olabilecegini bir anlamda gosteriyor. Ancak daha iyi gormek icin 10000 yillik bir kaza simulasyonu gerceklestirelim ve dagilimini inceleyelim."
   ]
  },
  {
   "cell_type": "code",
   "execution_count": 6,
   "metadata": {},
   "outputs": [],
   "source": [
    "# burada bir simulasyon fonksiyonu tanimlayacagim \n",
    "def kaza_ornekle(baslangic, bitis, frekans, yil_sayisi):\n",
    "    ucak_kazasi_gunleri = np.random.randint(baslangic, (yil_sayisi*bitis) +1, frekans*yil_sayisi)\n",
    "    ucak_kazasi_gunleri.sort()\n",
    "    gun_farklari = np.roll(ucak_kazasi_gunleri, shift=-1)[:-1] - ucak_kazasi_gunleri[:-1]\n",
    "    return gun_farklari"
   ]
  },
  {
   "cell_type": "markdown",
   "metadata": {},
   "source": [
    "Ustteki `kaza_ornekle` fonksiyonu onceki asamalarda yaptiklarimizin derli toplu hali olarak dusunulebilir. Yine benzer sonuc aldigimizi gormek icin 20 kazalik ve bir yillik rastgele secimimizi gorelim:"
   ]
  },
  {
   "cell_type": "code",
   "execution_count": 7,
   "metadata": {},
   "outputs": [
    {
     "data": {
      "text/plain": [
       "array([47, 16, 11, 16, 32,  0, 18,  9,  3, 20, 46,  0, 22, 20,  3, 45,  2,\n",
       "        2,  1])"
      ]
     },
     "execution_count": 7,
     "metadata": {},
     "output_type": "execute_result"
    }
   ],
   "source": [
    "kaza_ornekle(baslangic=1, bitis=365, frekans=20, yil_sayisi=1)"
   ]
  },
  {
   "cell_type": "markdown",
   "metadata": {},
   "source": [
    "Simdi ise 10000 yillik bir simulasyon olusturalim"
   ]
  },
  {
   "cell_type": "code",
   "execution_count": 8,
   "metadata": {},
   "outputs": [],
   "source": [
    "kaza_gun_farklari = kaza_ornekle(baslangic=1, bitis=365, frekans=20, yil_sayisi=10000)"
   ]
  },
  {
   "cell_type": "markdown",
   "metadata": {},
   "source": [
    "Toplamda `9999` ornegimiz var. Tek tek incelemek guc olacagindan histogram uzerinde bakalim  "
   ]
  },
  {
   "cell_type": "code",
   "execution_count": 9,
   "metadata": {},
   "outputs": [
    {
     "data": {
      "image/png": "[encoded data removed]",
      "text/plain": [
       "<matplotlib.figure.Figure at 0x1063b0550>"
      ]
     },
     "metadata": {},
     "output_type": "display_data"
    }
   ],
   "source": [
    "_ = plt.hist(kaza_gun_farklari, bins=50, density=True)"
   ]
  },
  {
   "cell_type": "markdown",
   "metadata": {},
   "source": [
    "Yukaridaki grafik iki kaza arasindaki gun farkinin bir **Ustel** dagilim oldugunu gosteriyor. Tamamen rastgele ucak kazalari arasindaki gun farkina baktigimizda iki ucak kazasi arasinda bir gun olma olasiligi iki ucak kazasi arasinda 100 gun olma olasiligindan daha fazla oldugunu goruyoruz. Bu da aslinda Tevfikin anlatmak istedigi durumu acikliyor. Yani iki ucak kazasi arasinda bir gun fark olmasi rastgelelikle/tesadufle aciklanabilir. Herhangi bir komploya gerek yok :)"
   ]
  },
  {
   "cell_type": "markdown",
   "metadata": {},
   "source": [
    "**Ustel** dagilim bize ayrica ortalama iki ucak kazasi arasindaki farkin da $365/\\lambda$ gun olmasi gerektigini soyler. Bu durumda 9999 gun araliginin ortalamasinin analitik cozum olan 365/20 = 18.25'e yakin olmasini bekleriz. Bakalim:"
   ]
  },
  {
   "cell_type": "code",
   "execution_count": 10,
   "metadata": {},
   "outputs": [
    {
     "name": "stdout",
     "output_type": "stream",
     "text": [
      "Iki kaza arasindaki ortalama gun farki 18.42 gundur\n"
     ]
    }
   ],
   "source": [
    "print('Iki kaza arasindaki ortalama gun farki {0} gundur'.format(gun_farklari.mean().round(2)))"
   ]
  },
  {
   "cell_type": "markdown",
   "metadata": {},
   "source": [
    "Gercekten de simulasyon ile elde ettigimiz deger analitik deger olan 18.25'e cok yakin."
   ]
  },
  {
   "cell_type": "markdown",
   "metadata": {},
   "source": [
    "Elimizde empirik veri seti olduguna gore birkac ilginc soru sorabiliriz:\n",
    " 1. Herhangi iki kaza arasinda 50 gunden az olma olasiligi nedir?\n",
    " 2. Herhangi iki kaza arasinda 75 gunden fazla olasiligi nedir?\n",
    " 3. Herhangi iki kaza arasinda 0 ya da 1 gun olma olasiligi nedir?\n",
    " 4. Kazalarin %90i arasinda en fazla kac gun vardir?\n"
   ]
  },
  {
   "cell_type": "code",
   "execution_count": 11,
   "metadata": {},
   "outputs": [
    {
     "name": "stdout",
     "output_type": "stream",
     "text": [
      "Herhangi iki kaza arasinda 50 gunden az olma olasiligi %93.0\n"
     ]
    }
   ],
   "source": [
    "# herhangi iki kaza arasinda 50 gunden az olma olasiligi nedir?\n",
    "p = np.mean(kaza_gun_farklari < 50).round(2)\n",
    "print(\"Herhangi iki kaza arasinda 50 gunden az olma olasiligi %{0}\".format(100*p))"
   ]
  },
  {
   "cell_type": "code",
   "execution_count": 12,
   "metadata": {},
   "outputs": [
    {
     "name": "stdout",
     "output_type": "stream",
     "text": [
      "Herhangi iki kaza arasinda 75 gunden fazla olma olasiligi %1.6\n"
     ]
    }
   ],
   "source": [
    "# herhangi iki kaza arasinda 75 gunden fazla olma olasiligi nedir?\n",
    "p = np.mean(kaza_gun_farklari > 75 ).round(3)\n",
    "print(\"Herhangi iki kaza arasinda 75 gunden fazla olma olasiligi %{0}\".format(100*p))"
   ]
  },
  {
   "cell_type": "markdown",
   "metadata": {},
   "source": [
    "Yukaridaki sonuca gore iki ucak kazasi arasinda 75 gunden fazla olmasinin olasigi %2 den azdir. Ancak bircok insanin algisina gore bu o kadar anormal bir durum degildir. En azindan iki ucak kazasinin ardarda gelmesi kadar anormal bir durum olarak algilanmamaktadir."
   ]
  },
  {
   "cell_type": "code",
   "execution_count": 13,
   "metadata": {},
   "outputs": [
    {
     "name": "stdout",
     "output_type": "stream",
     "text": [
      "Herhangi iki kaza arasinda 1 gun veya daha az olma olasiligi %7.9\n"
     ]
    }
   ],
   "source": [
    "# herhangi Iki kaza arasinda 0 ya da 1 gun olma olasiligi nedir?\n",
    "p = np.mean(kaza_gun_farklari <= 1).round(3)\n",
    "print(\"Herhangi iki kaza arasinda 1 gun veya daha az olma olasiligi %{0}\".format(100*p))"
   ]
  },
  {
   "cell_type": "markdown",
   "metadata": {},
   "source": [
    "`%7.9` olasilikla iki kaza ayni gunde ya da bir gun arayla gerceklesebilir. Ilk bakista her ne kadar dusuk bir olasilik gibi gorunse de yillik 20 kazanin oldugunu dusunursek bu oran degisecektir. Daha iyi anlayabilmek icin soruyu soyle soralim. \n",
    "\n",
    "> *Iki kazanin arasinda 1 gun ya da az olma olasiliginin %7.9 oldugunu biliyoruz. Yillik ise 20 kaza gerceklesiyor. Bu durumda toplamda bir yil icerisinde (20 kazada) ardarda (bir ya da 0 gun farkla) kaza gormemizin olasiligi nedir?*"
   ]
  },
  {
   "cell_type": "markdown",
   "metadata": {},
   "source": [
    "$p = 0.079$ iki ardarda kaza olma olasiligi olduguna gore $1-p = 0.921$ de iki ardarda kaza olmama olasiligidir. Bu durumda 19 kaza gunu farkinda, ardarda kaza olmama olasiligi ise:"
   ]
  },
  {
   "cell_type": "code",
   "execution_count": 14,
   "metadata": {},
   "outputs": [
    {
     "data": {
      "text/plain": [
       "0.20937892887352805"
      ]
     },
     "execution_count": 14,
     "metadata": {},
     "output_type": "execute_result"
    }
   ],
   "source": [
    "0.921**19"
   ]
  },
  {
   "cell_type": "markdown",
   "metadata": {},
   "source": [
    "Yukarida goruldugu uzere 20 kazanin olugu bir yilda ardarda iki kaza **olmama** olasiligi ~%21 . Yani 20 kaza icinde ardarda iki kaza **olma** olasiligi ise %79 . Bu ise yabana atilir bir olasilik degil. Hatta ardarda kaza olma olasiligi 2 yil icinde de %96'ya cikiyor: !!"
   ]
  },
  {
   "cell_type": "code",
   "execution_count": 15,
   "metadata": {},
   "outputs": [
    {
     "data": {
      "text/plain": [
       "0.959623787476416"
      ]
     },
     "execution_count": 15,
     "metadata": {},
     "output_type": "execute_result"
    }
   ],
   "source": [
    "1 - 0.921**39"
   ]
  },
  {
   "cell_type": "code",
   "execution_count": 16,
   "metadata": {},
   "outputs": [
    {
     "name": "stdout",
     "output_type": "stream",
     "text": [
      "Kazalarin %90'i 42 gun icerisinde gerceklesir\n"
     ]
    }
   ],
   "source": [
    "# Kazalarin %90i arasinda en fazla kac gun vardir?\n",
    "print(\"Kazalarin %90'i {:.0f} gun icerisinde gerceklesir\".format(np.percentile(kaza_gun_farklari, 90)))"
   ]
  },
  {
   "cell_type": "markdown",
   "metadata": {},
   "source": [
    "Her ne kadar komplo teorileri ya da astrologlarin yildiz ay fallari boyle durumlarda daha inandirici geliyor gibi olsa da durun ve sorun. Acaba rastgelelik/tesaduf bu durumu aciklayabilir mi? Eger veriye dayali bir varsayimla yola cikarsaniz, sonucta elle tutulur bir sonuc elde edersiniz.\n",
    "\n",
    "Bu arada astrolojiyle ilgili de ufak bir sey ekleyeyim. Newtonun kutlecekim kanunu yan dairenizde oturan sisman komsunuzun size uyguladigi kutlecekim cekim kuvvetinin Neptunun, Jupiterin, Venusun vs.. toplamda size uyguladigindan daha fazla oldugunu soyler. Astrologlar gezegenlere bakarak size birseyler anlatiyorsa gidin komsunuza da akil danisin, en azindan istatistiksel olarak komsunuz astrologlara gore daha cok yanilmayacaktir:)   \n"
   ]
  },
  {
   "cell_type": "markdown",
   "metadata": {},
   "source": [
    "### Daha az ucak kazasi olursa dagilim degisimi nasil olur?"
   ]
  },
  {
   "cell_type": "markdown",
   "metadata": {},
   "source": [
    "Elimizdeki `kaza_ornekle` fonksiyonu bircok sorulari sorabilmemizi mumkun kildigina gore yillik ucak kazasi frekansini degistirirsek dagilimimiz nasil degisecektir? Yillik kaza sayisini 20den 5'e indirelim: $\\lambda=5$ "
   ]
  },
  {
   "cell_type": "code",
   "execution_count": 17,
   "metadata": {},
   "outputs": [],
   "source": [
    "kaza_gun_farklari = kaza_ornekle(baslangic=1, bitis=365, frekans=5, yil_sayisi=10000)"
   ]
  },
  {
   "cell_type": "markdown",
   "metadata": {},
   "source": [
    "Iki kaza arasindaki ortalama gun farkinin 365/5 = 73 gun olmasini bekleriz. Bakalim:"
   ]
  },
  {
   "cell_type": "code",
   "execution_count": 18,
   "metadata": {},
   "outputs": [
    {
     "data": {
      "text/plain": [
       "72.99895997919958"
      ]
     },
     "execution_count": 18,
     "metadata": {},
     "output_type": "execute_result"
    }
   ],
   "source": [
    "kaza_gun_farklari.mean()"
   ]
  },
  {
   "cell_type": "code",
   "execution_count": 19,
   "metadata": {},
   "outputs": [
    {
     "data": {
      "image/png": "[encoded data removed]",
      "text/plain": [
       "<matplotlib.figure.Figure at 0x106882c50>"
      ]
     },
     "metadata": {},
     "output_type": "display_data"
    }
   ],
   "source": [
    "_ = plt.hist(kaza_gun_farklari, bins=50, density=True)"
   ]
  },
  {
   "cell_type": "markdown",
   "metadata": {},
   "source": [
    "Yukaridaki grafik her ne kadar frekansin 20 oldugu grafige benzese de `x` ekseninin degerlerine dikkatli bakiniz. Bu durumda\n",
    "1. Herhangi iki kaza arasinda 50 gunden az olma olasiligi nedir\n",
    "2. Herhangi iki kaza arasinda 75 gunden fazla olasiligi nedir\n",
    "3. Herhangi iki kaza arasinda 0 ya da 1 gun olma olasiligi nedir?\n",
    "4. Kazalarin %90i arasinda en fazla kac gun vardir?"
   ]
  },
  {
   "cell_type": "code",
   "execution_count": 20,
   "metadata": {},
   "outputs": [
    {
     "name": "stdout",
     "output_type": "stream",
     "text": [
      "Herhangi iki kaza arasinda 50 gunden az olma olasiligi %49.0\n"
     ]
    }
   ],
   "source": [
    "# herhangi iki kaza arasinda 50 gunden az olma olasiligi nedir?\n",
    "p = np.mean(kaza_gun_farklari < 50).round(2)\n",
    "print(\"Herhangi iki kaza arasinda 50 gunden az olma olasiligi %{0}\".format(100*p))"
   ]
  },
  {
   "cell_type": "code",
   "execution_count": 21,
   "metadata": {},
   "outputs": [
    {
     "name": "stdout",
     "output_type": "stream",
     "text": [
      "Herhangi iki kaza arasinda 75 gunden fazla olma olasiligi %35.5\n"
     ]
    }
   ],
   "source": [
    "# herhangi iki kaza arasinda 75 gunden fazlaolma olasiligi nedir?\n",
    "p = np.mean(kaza_gun_farklari > 75 ).round(3)\n",
    "print(\"Herhangi iki kaza arasinda 75 gunden fazla olma olasiligi %{0}\".format(100*p))"
   ]
  },
  {
   "cell_type": "code",
   "execution_count": 22,
   "metadata": {},
   "outputs": [
    {
     "name": "stdout",
     "output_type": "stream",
     "text": [
      "Herhangi iki kaza arasinda 1 gun veya daha az olma olasiligi %2.0\n"
     ]
    }
   ],
   "source": [
    "# Herhangi iki kaza arasinda 0 ya da 1 gun olma olasiligi nedir?\n",
    "p = np.mean(kaza_gun_farklari <= 1).round(3)\n",
    "print(\"Herhangi iki kaza arasinda 1 gun veya daha az olma olasiligi %{0}\".format(100*p))"
   ]
  },
  {
   "cell_type": "code",
   "execution_count": 23,
   "metadata": {},
   "outputs": [
    {
     "name": "stdout",
     "output_type": "stream",
     "text": [
      "Bir yil icerisinde olan 5 kazadan herhangi ikisnin ardarda gerceklesme olasiligi %7.8\n"
     ]
    }
   ],
   "source": [
    "# Bir yil icerisinde ardarda iki kaza olma olasiligi nedir:\n",
    "p = 1-0.98**4\n",
    "print(\"Bir yil icerisinde olan 5 kazadan herhangi ikisnin ardarda gerceklesme olasiligi %{:.1f}\".format(100*p))"
   ]
  },
  {
   "cell_type": "code",
   "execution_count": 24,
   "metadata": {},
   "outputs": [
    {
     "data": {
      "text/plain": [
       "168.0"
      ]
     },
     "execution_count": 24,
     "metadata": {},
     "output_type": "execute_result"
    }
   ],
   "source": [
    "# Kazalarin %90i arasinda en fazla kac gun vardir?\n",
    "np.percentile(kaza_gun_farklari, 90)"
   ]
  },
  {
   "cell_type": "markdown",
   "metadata": {},
   "source": [
    "Yillik kaza ortalamasi 20'den 5'e dustugunde ardarda kaza olma olasiligi da `%79`'dan `%7.8`'e iniyor. Eger yilda ortalama 5 kaza olsaydi o zaman iki kazanin ardarda gelmesi daha ilginc bir olay olurdu. "
   ]
  },
  {
   "cell_type": "markdown",
   "metadata": {},
   "source": [
    "-------\n",
    "## Mehmet Oner Yalcin  \n",
    "#### Mart 2018\n",
    "#### [@oneryalcin](https://twitter.com/oneryalcin)"
   ]
  },
  {
   "cell_type": "code",
   "execution_count": null,
   "metadata": {},
   "outputs": [],
   "source": []
  }
 ],
 "metadata": {
  "kernelspec": {
   "display_name": "Python 3",
   "language": "python",
   "name": "python3"
  },
  "language_info": {
   "codemirror_mode": {
    "name": "ipython",
    "version": 3
   },
   "file_extension": ".py",
   "mimetype": "text/x-python",
   "name": "python",
   "nbconvert_exporter": "python",
   "pygments_lexer": "ipython3",
   "version": "3.6.4"
  }
 },
 "nbformat": 4,
 "nbformat_minor": 2
}
