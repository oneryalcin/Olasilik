{
 "cells": [
  {
   "cell_type": "markdown",
   "metadata": {},
   "source": [
    "# Rastgele Ne Kadar Rastgele"
   ]
  },
  {
   "cell_type": "markdown",
   "metadata": {},
   "source": [
    "Sevgili dostum Tevfik Uyarin rastgeleligi anlatirken verdigi ornegi biraz daha ayrintili olrak burada incelemek istiyorum. \n",
    "\n",
    "Tevfik'e gelen soru su sekilde:"
   ]
  },
  {
   "cell_type": "code",
   "execution_count": 2,
   "metadata": {},
   "outputs": [
    {
     "data": {
      "text/html": [
       "<blockquote class=\"twitter-tweet\" data-lang=\"en\"><p lang=\"tr\" dir=\"ltr\">Bir yılda ortalama 20 adet uçak kazası gerçekleşiyorsa eğer, tamamen rasgelelik durumunda yılda bir kaç defa art arda (ya da aynı haftada) olabilir. 6 adet denemeye ait bilgi ekte: Grafikte altı denemede 1-365 arasında seçilmiş rasgele 20&#39;şer sayı görünüyor. Değerler diğerinde. <a href=\"https://t.co/POo5cuXYjE\">pic.twitter.com/POo5cuXYjE</a></p>&mdash; Tevfik Uyar (@tevfik_uyar) <a href=\"https://twitter.com/tevfik_uyar/status/973316792759107584?ref_src=twsrc%5Etfw\">March 12, 2018</a></blockquote>\n",
       "<script async src=\"https://platform.twitter.com/widgets.js\" charset=\"utf-8\"></script>"
      ],
      "text/plain": [
       "<IPython.core.display.HTML object>"
      ]
     },
     "metadata": {},
     "output_type": "display_data"
    }
   ],
   "source": [
    "%%html\n",
    "<blockquote class=\"twitter-tweet\" data-lang=\"en\"><p lang=\"tr\" dir=\"ltr\">Bir yılda ortalama 20 adet uçak kazası gerçekleşiyorsa eğer, tamamen rasgelelik durumunda yılda bir kaç defa art arda (ya da aynı haftada) olabilir. 6 adet denemeye ait bilgi ekte: Grafikte altı denemede 1-365 arasında seçilmiş rasgele 20&#39;şer sayı görünüyor. Değerler diğerinde. <a href=\"https://t.co/POo5cuXYjE\">pic.twitter.com/POo5cuXYjE</a></p>&mdash; Tevfik Uyar (@tevfik_uyar) <a href=\"https://twitter.com/tevfik_uyar/status/973316792759107584?ref_src=twsrc%5Etfw\">March 12, 2018</a></blockquote>\n",
    "<script async src=\"https://platform.twitter.com/widgets.js\" charset=\"utf-8\"></script>"
   ]
  },
  {
   "cell_type": "markdown",
   "metadata": {},
   "source": [
    "Tevfigin belirtmek istedigi tamamen rastgele bir durumda belli bir diziden secilen sayilarin birbirlerine yakin olmasi rastgelelikle aciklanabilir. Yukaridaki ornekte 1 ile 365 arasinda 20 rastgele sayi seciliyor ve de bazi durumlarda iki sayinin arasindaki fark gercekten az olabilir. Bunu duruma gore hislerimizin aksine rastgelelikle ya da tesadufle aciklayabiliriz."
   ]
  },
  {
   "cell_type": "markdown",
   "metadata": {},
   "source": [
    "### Matematiksel Referans (Tamamen opsiyonel, tedirgin ederse geciniz)"
   ]
  },
  {
   "cell_type": "markdown",
   "metadata": {},
   "source": [
    "En unlu olasilik dagilimlarindan bir tanesi de **Poisson** dagilimidir. **Poisson** dagilimi ortalama bir $\\lambda$ degerine gore belli bir zaman icerisinde kac tane olayin gerceklesecegini ifade eder. Bir ornekle aciklayalim:  Ornegin bir restorana saatte ortalama 20 musterinin geldigini varsayalim $\\lambda=20$. Fakat her saatte 20 musteri gelmseini beklemeyiz, bazen 15 musteri gelirken bazen 30 musteri de gelebilir.  **Poisson** dagilimi bize hangi olasilikla bir saate 15ten az ya da 30dan fazla musteri gelebilecegini aciklar. \n",
    "\n",
    "Ortalama olarak saatte 20 musterinin geldigini varsayarsak, her 3 dakikada bir musterinin gelecegini dusunebiliriz. Ancak biliyoruz ki iki musteri arasindaki zamanin uc dakikadan az ya da cok olmasi da olasidir. **Ustel** olasilik dagilim da verilen **Poisson** dagiliminda gerceklesen iki olay arasindaki zamanin dagilimini bize verir. Bizim ornegimizde saatte 20 musterinin geldigi bir restoranda **Ustel** dagilim iki musteri arasindaki gelme zamanini verecektir. \n",
    "\n",
    "Yukarida anlatilanlar kafanizi karistirdiysa korkmayin. Asagida bu durumu matematik olmadan sadece simulasyon yardimiyla cozmeye calisacagiz. Ancak Tevfigin bashettigi problemi matematiksel olarak tanimlamak gerekirse:\n",
    "\n",
    "> *Bir yil (=365 gun) icerisinde ortalama 20 ucak kazasinin gerceklestigini varsayalim. Iki ucak kazasinin ardarda (ya da cok kisa zaman araligi) icerinde olmasi normal midir?* Bu durumda Ucak kazalarini **Poisson** dagilimi olarak modelleyebiliriz. $\\lambda=20$ \n",
    "\n",
    "Poisson dagiliminda gerceklesen olaylar birbirinden bagimsizdir. Yani ornegimizde bir ucak kazasinin digerini tetiklemedigini kabul ediyoruz.  "
   ]
  },
  {
   "cell_type": "markdown",
   "metadata": {},
   "source": [
    "### Simulasyon Yontemi"
   ]
  },
  {
   "cell_type": "markdown",
   "metadata": {},
   "source": [
    "Ucak kazasi problemini analitik olarak cozmemiz mumkun ancak burada rastgeleligi daha ayrintili gorebilmek adina simulasyonu tercih edecegim. Simulasyonumuz soyle:\n",
    "\n",
    "1. 365 gun icinden 20 rastgele sayi sececegiz. Bunlar ucak kazasi olan gunler.\n",
    "2. Bu 20 gunu kucukten buyuge siraladiktan sonra kazalar arasindaki gun farkini bulacagiz\n",
    "3. Bunu bircok kere (minimum 1000 defa) tekrarlayacagiz. \n",
    "4. Elde ettigimiz ucak kazasi gun farki dizisini inceleyecegiz. "
   ]
  },
  {
   "cell_type": "markdown",
   "metadata": {},
   "source": [
    "Daha acik olmasi icin bir yil icin ilk iki maddeyi inceleyelim. "
   ]
  },
  {
   "cell_type": "code",
   "execution_count": 6,
   "metadata": {},
   "outputs": [],
   "source": [
    "# Simulasyon icin Python dilini, Numpy ve matplotlib kutuphanelerini kullanacagiz.\n",
    "# bu hucredeki kod bu kutuphaneleri calisma alanimiza yukluyor\n",
    "\n",
    "import numpy as np \n",
    "import matplotlib.pyplot as plt\n",
    "%matplotlib inline\n",
    "\n",
    "# Bu simulasyonu tekrarlamak isteyenler icin de seed'i bir degere \n",
    "#sabitliyorum. (bu satir kafanizi karistirdiysa umursamayin)\n",
    "np.random.seed(42)"
   ]
  },
  {
   "cell_type": "markdown",
   "metadata": {},
   "source": [
    "365 gun icinden rastgele 20 gun secelim"
   ]
  },
  {
   "cell_type": "code",
   "execution_count": 14,
   "metadata": {},
   "outputs": [
    {
     "data": {
      "text/plain": [
       "array([316,  14, 242, 265, 346,  53, 340,  92, 264,  35, 206,  81,  50,\n",
       "       360,   2,  54, 106, 260, 310, 191])"
      ]
     },
     "execution_count": 14,
     "metadata": {},
     "output_type": "execute_result"
    }
   ],
   "source": [
    "# 365i secmek icin bir fazlasini tavan degeri olarak girmek gerekiyor \n",
    "ucak_kazasi_gunleri = np.random.randint(1, 365+1, 20)\n",
    "ucak_kazasi_gunleri"
   ]
  },
  {
   "cell_type": "markdown",
   "metadata": {},
   "source": [
    "Kaza gunlerini kucukten buyuge dogru dizelim"
   ]
  },
  {
   "cell_type": "code",
   "execution_count": 15,
   "metadata": {},
   "outputs": [
    {
     "data": {
      "text/plain": [
       "array([  2,  14,  35,  50,  53,  54,  81,  92, 106, 191, 206, 242, 260,\n",
       "       264, 265, 310, 316, 340, 346, 360])"
      ]
     },
     "execution_count": 15,
     "metadata": {},
     "output_type": "execute_result"
    }
   ],
   "source": [
    "ucak_kazasi_gunleri.sort()\n",
    "ucak_kazasi_gunleri"
   ]
  },
  {
   "cell_type": "markdown",
   "metadata": {},
   "source": [
    "Kazalar arasindaki gun farklarini bulalim"
   ]
  },
  {
   "cell_type": "code",
   "execution_count": 27,
   "metadata": {},
   "outputs": [
    {
     "data": {
      "text/plain": [
       "array([12, 21, 15,  3,  1, 27, 11, 14, 85, 15, 36, 18,  4,  1, 45,  6, 24,\n",
       "        6, 14])"
      ]
     },
     "execution_count": 27,
     "metadata": {},
     "output_type": "execute_result"
    }
   ],
   "source": [
    "gun_farklari = np.roll(ucak_kazasi_gunleri, shift=-1)[:-1] - ucak_kazasi_gunleri[:-1]\n",
    "gun_farklari"
   ]
  },
  {
   "cell_type": "markdown",
   "metadata": {},
   "source": [
    "Yukarida goruldugu uzere rastgele secilen bir sette bir yil icerisinde iki defa iki kazanin ardarda gerceklestigini goruyoruz. Bu durum aslinda kazalarin ardarda olabilecegini bir anlamda gosteriyor. Ancak daha iyi gormek icin 1000 yillik bir kaza simulasyonu gerceklestirelim ve dagilimini inceleyelim."
   ]
  },
  {
   "cell_type": "code",
   "execution_count": 86,
   "metadata": {},
   "outputs": [],
   "source": [
    "# burada bir simulasyon fonksiyonu tanimlayacagim \n",
    "def kaza_ornekle(baslangic, bitis, frekans, yil_sayisi):\n",
    "    ucak_kazasi_gunleri = np.random.randint(baslangic, (yil_sayisi*bitis) +1, frekans*yil_sayisi)\n",
    "    ucak_kazasi_gunleri.sort()\n",
    "    gun_farklari = np.roll(ucak_kazasi_gunleri, shift=-1)[:-1] - ucak_kazasi_gunleri[:-1]\n",
    "    return gun_farklari"
   ]
  },
  {
   "cell_type": "markdown",
   "metadata": {},
   "source": [
    "Ustteki `kaza_ornekle` fonksiyonu onceki asamalarda yaptiklarimizin derli toplu hali olarak dusunulebilir. Yine benzer sonuc aldigimizi gormek icin 20 kazalik ve bir yillik rastgele secimimizi gorelim:"
   ]
  },
  {
   "cell_type": "code",
   "execution_count": 87,
   "metadata": {},
   "outputs": [
    {
     "data": {
      "text/plain": [
       "array([39, 51,  0, 19, 47, 28, 13,  5, 16,  9,  1,  8, 12, 79,  7,  8,  1,\n",
       "        2, 14])"
      ]
     },
     "execution_count": 87,
     "metadata": {},
     "output_type": "execute_result"
    }
   ],
   "source": [
    "kaza_ornekle(baslangic=1, bitis=365, frekans=20, yil_sayisi=1)"
   ]
  },
  {
   "cell_type": "markdown",
   "metadata": {},
   "source": [
    "Simdi ise 1000 yillik bir simulasyon olusturalim"
   ]
  },
  {
   "cell_type": "code",
   "execution_count": 100,
   "metadata": {},
   "outputs": [],
   "source": [
    "kaza_gun_farklari = kaza_ornekle(baslangic=1, bitis=365, frekans=20, yil_sayisi=1000)"
   ]
  },
  {
   "cell_type": "markdown",
   "metadata": {},
   "source": [
    "Toplamda `1000 x 19 = 19000` ornegimiz var. Tek tek incelemek guc olacagindan histogram uzerinde bakalim  "
   ]
  },
  {
   "cell_type": "code",
   "execution_count": 89,
   "metadata": {},
   "outputs": [
    {
     "data": {
      "image/png": "[encoded data removed]",
      "text/plain": [
       "<matplotlib.figure.Figure at 0x108de8b00>"
      ]
     },
     "metadata": {},
     "output_type": "display_data"
    }
   ],
   "source": [
    "_ = plt.hist(kaza_gun_farklari, bins=30, density=True)"
   ]
  },
  {
   "cell_type": "markdown",
   "metadata": {},
   "source": [
    "Yukaridaki grafik iki kaza arasindaki gun farkinin bir **Ustel** dagilim oldugunu gosteriyor. Tamamen rastgele ucak kazalari arasindaki gun farkina baktigimizda iki ucak kazasi arasinda bir gun olma olasiligi iki ucak kazasi arasinda 100 gun olma olasiligindan daha fazla oldugunu goruyoruz. Bu da aslinda Tevfikin anlatmak istedigi durumu acikliyor. Yani iki ucak kazasi arasinda bir gun fark olmasi rastgelelikle/tesadufle aciklanabilir. Herhangi bir komploya gerek yok :)"
   ]
  },
  {
   "cell_type": "markdown",
   "metadata": {},
   "source": [
    "**Ustel** dagilim bize ayrica ortalama iki ucak kazasi arasindaki farkin da $\\lambda=20$ gun olmasi gerektigini soyler. Bu durumda 19000 gun farkinin ortalamasi yaklasik olarak 365/20 = 18.25 olmasi gerekir. Bakalim:"
   ]
  },
  {
   "cell_type": "code",
   "execution_count": 90,
   "metadata": {},
   "outputs": [
    {
     "data": {
      "text/plain": [
       "18.842105263157894"
      ]
     },
     "execution_count": 90,
     "metadata": {},
     "output_type": "execute_result"
    }
   ],
   "source": [
    "gun_farklari.mean()"
   ]
  },
  {
   "cell_type": "markdown",
   "metadata": {},
   "source": [
    "Gercekten de simulasyon ile elde ettigimiz deger analitik deger olan 18.25'e cok yakin."
   ]
  },
  {
   "cell_type": "markdown",
   "metadata": {},
   "source": [
    "Elimizde empirik veri seti olduguna gore birkac ilginc soru sorabiliriz:\n",
    " 1. Herhangi iki kaza arasinda 50 gunden az olma olasiligi nedir?\n",
    " 2. Herhangi iki kaza arasinda 100 gunden fazla olasiligi nedir?\n",
    " 3. Herhangi iki kaza arasinda 0 ya da 1 gun olma olasiligi nedir?\n",
    " 4. Kazalarin %90i arasinda en fazla kac gun vardir?\n"
   ]
  },
  {
   "cell_type": "code",
   "execution_count": 91,
   "metadata": {},
   "outputs": [
    {
     "data": {
      "text/plain": [
       "0.935"
      ]
     },
     "execution_count": 91,
     "metadata": {},
     "output_type": "execute_result"
    }
   ],
   "source": [
    "# herhangi iki kaza arasinda 50 gunden olma olasiligi nedir?\n",
    "np.mean(kaza_gun_farklari < 50).round(3)"
   ]
  },
  {
   "cell_type": "markdown",
   "metadata": {},
   "source": [
    "`%93` olasilikla herhangi iki kaza arasinda 50 gunden az vardir"
   ]
  },
  {
   "cell_type": "code",
   "execution_count": 92,
   "metadata": {},
   "outputs": [
    {
     "data": {
      "text/plain": [
       "0.004"
      ]
     },
     "execution_count": 92,
     "metadata": {},
     "output_type": "execute_result"
    }
   ],
   "source": [
    "# herhangi iki kaza arasinda 100 gunden olma olasiligi nedir?\n",
    "np.mean(kaza_gun_farklari > 100).round(3)"
   ]
  },
  {
   "cell_type": "code",
   "execution_count": 93,
   "metadata": {},
   "outputs": [
    {
     "data": {
      "text/plain": [
       "0.08"
      ]
     },
     "execution_count": 93,
     "metadata": {},
     "output_type": "execute_result"
    }
   ],
   "source": [
    "# Iki kaza arasinda 0 ya da 1 gun olma olasiligi nedir?\n",
    "np.mean(kaza_gun_farklari <= 1).round(3)"
   ]
  },
  {
   "cell_type": "markdown",
   "metadata": {},
   "source": [
    "`%8` olasilikla iki kaza ayni gunde ya da bir gun farkla gerceklesebilir. Ilk bakista her ne kadar dusuk gibi gorunse de bu durum yilda 20 kazanin oldugu durumda kucuk kalmamaktadir. Daha iyi anlayabilmek icin soruyu soyle soralim. iki kazanin arasinda 1 gun ya da az olma olasiliginin %8 oldugunu biliyoruz. Yillik ise 20 kaza gerceklesiyor. Bu durumda toplamda bir yil icerisinde (20 kazada) ardarda (bir ya da 0 gun farkla) kaza gormemizin olasiligi nedir? "
   ]
  },
  {
   "cell_type": "markdown",
   "metadata": {},
   "source": [
    "$p = 0.08$ iki ardarda kaza olma olasiligi olduguna gore $1-p = 0.92$ de iki ardarda kaza olmama olasiligidir. Bu durumda 19 kaza gunu farkinda, ardarda kaza olmama olasiligi ise:"
   ]
  },
  {
   "cell_type": "code",
   "execution_count": 94,
   "metadata": {},
   "outputs": [
    {
     "data": {
      "text/plain": [
       "0.20510144474217035"
      ]
     },
     "execution_count": 94,
     "metadata": {},
     "output_type": "execute_result"
    }
   ],
   "source": [
    "0.92**19"
   ]
  },
  {
   "cell_type": "markdown",
   "metadata": {},
   "source": [
    "Yukarida goruldugu uzere 20 kazanin olugu bir yilda ardarda iki kaza **olmama** olasiligi %20.5 . Yani 20 kaza icinde ardarda iki kaza **olma** olasiligi ise %79.5 . Bu ise yabana atilir bir olasilik degil. Hatta bu olasilik 2 yil icinde de %96'ya cikiyor: !!"
   ]
  },
  {
   "cell_type": "code",
   "execution_count": 96,
   "metadata": {},
   "outputs": [
    {
     "data": {
      "text/plain": [
       "0.9612987255755004"
      ]
     },
     "execution_count": 96,
     "metadata": {},
     "output_type": "execute_result"
    }
   ],
   "source": [
    "1 - 0.92**39"
   ]
  },
  {
   "cell_type": "code",
   "execution_count": 101,
   "metadata": {},
   "outputs": [
    {
     "data": {
      "text/plain": [
       "42.0"
      ]
     },
     "execution_count": 101,
     "metadata": {},
     "output_type": "execute_result"
    }
   ],
   "source": [
    "# Kazalarin %90i arasinda en fazla kac gun vardir?\n",
    "np.percentile(kaza_gun_farklari, 90)"
   ]
  },
  {
   "cell_type": "markdown",
   "metadata": {},
   "source": [
    "Her ne kadar komplo teorileri ya da astrologlarin yildiz ay fallari boyle durumlarda daha inandirici geliyor gibi olsa da durun ve sorun. Acaba rastgelelik/tesaduf bu durumu aciklayabilir mi? Eger veriye dayali bir varsayimla yola cikarsaniz, sonucta elle tutulur bir sonuc elde edeceksiniz. Komplo teorilerinden ve fallardan ote, gercek bilgiye ulasin. Herhangi bir yilda %80 olasilikla ardarda ucak kazasi olacaktir. \n",
    "\n",
    "Bu arada astrolojiyi boyle durumlarda referans aliyorsaniz size de iki sozum var. Newtonun kutlecekim kanunu yan dairenizde oturan sisman komsunuzun size uyguladigi kutlecekim cekim kuvvetinin Neptunun, Jupiterin, Venusun toplamda size uyguladigindan cok daha fazla oldugunu soyler. Astrologlar gezegenlere bakarak size birseyler anlatiyorsa gidin sisman komsunuza da akil danisin, en azindan istatistiksel olarak komsunuz astrologlara gore daha cok yanilmayacaktir:)   \n"
   ]
  },
  {
   "cell_type": "markdown",
   "metadata": {},
   "source": [
    "### Daha az ucak kazasi olursa dagilim degisimi nasil olur?"
   ]
  },
  {
   "cell_type": "markdown",
   "metadata": {},
   "source": [
    "Elimizdeki `kaza_ornekle` fonksiyonu bircok sorulari sorabilmemizi mumkun kildigina gore yillik ucak kazasi frekansini degistirirsek dagilimimiz nasil degisecektir? Yillik kaza sayisini 20den 5'e indirelim: $\\lambda=3$ "
   ]
  },
  {
   "cell_type": "code",
   "execution_count": 104,
   "metadata": {},
   "outputs": [],
   "source": [
    "kaza_gun_farklari = kaza_ornekle(baslangic=1, bitis=365, frekans=3, yil_sayisi=5000)"
   ]
  },
  {
   "cell_type": "markdown",
   "metadata": {},
   "source": [
    "Iki kaza arasindaki ortalama gun farkinin 365/3 ~= 121.3 gun olmasini bekleriz. Bakalim:"
   ]
  },
  {
   "cell_type": "code",
   "execution_count": 108,
   "metadata": {},
   "outputs": [
    {
     "data": {
      "text/plain": [
       "121.66031068737915"
      ]
     },
     "execution_count": 108,
     "metadata": {},
     "output_type": "execute_result"
    }
   ],
   "source": [
    "kaza_gun_farklari.mean()"
   ]
  },
  {
   "cell_type": "code",
   "execution_count": 98,
   "metadata": {},
   "outputs": [
    {
     "data": {
      "image/png": "[encoded data removed]",
      "text/plain": [
       "<matplotlib.figure.Figure at 0x1084a3860>"
      ]
     },
     "metadata": {},
     "output_type": "display_data"
    }
   ],
   "source": [
    "_ = plt.hist(kaza_gun_farklari, bins=30, density=True)"
   ]
  },
  {
   "cell_type": "markdown",
   "metadata": {},
   "source": [
    "Yukaridaki grafik her ne kadar frekansin 20 oldugu grafige benzese de `x` ekseninin degerlerine dikkatli bakiniz. Bu durumda\n",
    "1. Herhangi iki kaza arasinda 50 gunden az olma olasiligi nedir\n",
    "2. Herhangi iki kaza arasinda 100 gunden fazla olasiligi nedir\n",
    "3. Herhangi iki kaza arasinda 0 ya da 1 gun olma olasiligi nedir?\n",
    "4. Kazalarin %90i arasinda en fazla kac gun vardir?"
   ]
  },
  {
   "cell_type": "code",
   "execution_count": 105,
   "metadata": {},
   "outputs": [
    {
     "data": {
      "text/plain": [
       "0.333"
      ]
     },
     "execution_count": 105,
     "metadata": {},
     "output_type": "execute_result"
    }
   ],
   "source": [
    "# herhangi iki kaza arasinda 50 gunden olma olasiligi nedir?\n",
    "np.mean(kaza_gun_farklari < 50).round(3)"
   ]
  },
  {
   "cell_type": "code",
   "execution_count": 106,
   "metadata": {},
   "outputs": [
    {
     "data": {
      "text/plain": [
       "0.438"
      ]
     },
     "execution_count": 106,
     "metadata": {},
     "output_type": "execute_result"
    }
   ],
   "source": [
    "# herhangi iki kaza arasinda 100 gunden olma olasiligi nedir?\n",
    "np.mean(kaza_gun_farklari > 100).round(3)"
   ]
  },
  {
   "cell_type": "code",
   "execution_count": 109,
   "metadata": {},
   "outputs": [
    {
     "data": {
      "text/plain": [
       "0.013"
      ]
     },
     "execution_count": 109,
     "metadata": {},
     "output_type": "execute_result"
    }
   ],
   "source": [
    "# Iki kaza arasinda 0 ya da 1 gun olma olasiligi nedir?\n",
    "np.mean(kaza_gun_farklari <= 1).round(3)"
   ]
  },
  {
   "cell_type": "code",
   "execution_count": 112,
   "metadata": {},
   "outputs": [
    {
     "data": {
      "text/plain": [
       "0.02583100000000005"
      ]
     },
     "execution_count": 112,
     "metadata": {},
     "output_type": "execute_result"
    }
   ],
   "source": [
    "# Bir yil icerisinde ardarda iki kaza olma olasiligi nedir:\n",
    "1-0.987**2"
   ]
  },
  {
   "cell_type": "code",
   "execution_count": 110,
   "metadata": {},
   "outputs": [
    {
     "data": {
      "text/plain": [
       "280.0"
      ]
     },
     "execution_count": 110,
     "metadata": {},
     "output_type": "execute_result"
    }
   ],
   "source": [
    "# Kazalarin %90i arasinda en fazla kac gun vardir?\n",
    "np.percentile(kaza_gun_farklari, 90)"
   ]
  },
  {
   "cell_type": "markdown",
   "metadata": {},
   "source": [
    "Yillik kaza ortalamasi 20'den 3'e dustugunde ardarda kaza olma olasiligi da `%79`'dan `%2.5`'e iniyor. Eger yilda ortalama 3 kaza olsaydi o zaman iki kazannin ardarda gelmesi ilginc bir olay olurdu. "
   ]
  },
  {
   "cell_type": "markdown",
   "metadata": {},
   "source": [
    "-------\n",
    "## Mehmet Oner Yalcin  \n",
    "#### [@oneryalcin](https://twitter.com/oneryalcin)"
   ]
  }
 ],
 "metadata": {
  "kernelspec": {
   "display_name": "Python 3",
   "language": "python",
   "name": "python3"
  },
  "language_info": {
   "codemirror_mode": {
    "name": "ipython",
    "version": 3
   },
   "file_extension": ".py",
   "mimetype": "text/x-python",
   "name": "python",
   "nbconvert_exporter": "python",
   "pygments_lexer": "ipython3",
   "version": "3.6.4"
  }
 },
 "nbformat": 4,
 "nbformat_minor": 2
}
