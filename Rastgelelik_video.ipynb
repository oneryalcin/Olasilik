{
 "cells": [
  {
   "cell_type": "markdown",
   "metadata": {},
   "source": [
    "# Rastgeleligi anlamak uzerine notlar\n",
    "\n",
    "#### Mehmet Oner Yalcin - Mart 2018"
   ]
  },
  {
   "cell_type": "markdown",
   "metadata": {},
   "source": [
    "Bulasik yikarken zaman gecirmek icin ne yaparsiniz? Belki cevabiniz sarki soylemek, varsa mutfakta tv izlemek, gunluk olaylari dusunmek vs.. olabilir. Ara sira zaman gecirmek icin bazen takip ettigim podcastleri dinlerim, ya da benzer sekilde dinlemeye uygun youtube videolarini acarim. Bir keresinde lavaboya sigmayan tepsiyi yikamakla savasmak arasindayken Kaan Ozturk'un **Rastgeleligi Anlamak** adli videosuna denk geldim. Bir saatin biraz uzerindeki bu sunumu dinlemenizi fazlasiyla oneririm.\n",
    "\n",
    "Kaan Ozturkun sunumu tabi ki zaman kisiti nedeniyle, anlatilan her konun derinlerine, neden ve nasillarina tamamen inmiyor. Bu Jupyter Notebook'u videonun eklentisi olarak dusunebilirsiniz. Bazi anlatilan noktalari simulasyon yardimi ile detaylarina inerek incelemek, bazen de olasilik kuramina kisa referanslarda bularak aklin"
   ]
  },
  {
   "cell_type": "code",
   "execution_count": 48,
   "metadata": {},
   "outputs": [
    {
     "data": {
      "text/html": [
       "\n",
       "        <iframe\n",
       "            width=\"400\"\n",
       "            height=\"300\"\n",
       "            src=\"https://www.youtube.com/embed/txDr_LcUB3w?start=439\"\n",
       "            frameborder=\"0\"\n",
       "            allowfullscreen\n",
       "        ></iframe>\n",
       "        "
      ],
      "text/plain": [
       "<IPython.lib.display.YouTubeVideo at 0x107f59630>"
      ]
     },
     "execution_count": 48,
     "metadata": {},
     "output_type": "execute_result"
    }
   ],
   "source": [
    "from IPython.display import YouTubeVideo\n",
    "from datetime import timedelta\n",
    "\n",
    "start=int(timedelta(hours=0, minutes=7, seconds=19).total_seconds())\n",
    "YouTubeVideo('txDr_LcUB3w', start=start)"
   ]
  },
  {
   "cell_type": "code",
   "execution_count": 1,
   "metadata": {},
   "outputs": [],
   "source": []
  },
  {
   "cell_type": "code",
   "execution_count": 23,
   "metadata": {},
   "outputs": [],
   "source": [
    "x = np.random.randint(0,2, 1000000)"
   ]
  },
  {
   "cell_type": "code",
   "execution_count": 24,
   "metadata": {},
   "outputs": [
    {
     "data": {
      "text/plain": [
       "array([1, 0, 1, ..., 1, 0, 0])"
      ]
     },
     "execution_count": 24,
     "metadata": {},
     "output_type": "execute_result"
    }
   ],
   "source": [
    "x "
   ]
  },
  {
   "cell_type": "code",
   "execution_count": 25,
   "metadata": {},
   "outputs": [],
   "source": [
    "from itertools import groupby\n",
    "c= np.array([len(list(x)) for key, x in groupby(x)])"
   ]
  },
  {
   "cell_type": "code",
   "execution_count": 26,
   "metadata": {},
   "outputs": [
    {
     "data": {
      "text/plain": [
       "array([1, 1, 2, ..., 2, 2, 2])"
      ]
     },
     "execution_count": 26,
     "metadata": {},
     "output_type": "execute_result"
    }
   ],
   "source": [
    "c"
   ]
  },
  {
   "cell_type": "code",
   "execution_count": 32,
   "metadata": {},
   "outputs": [
    {
     "data": {
      "text/plain": [
       "(array([5.01060545e-01, 2.49311944e-01, 1.24974535e-01, 6.21806881e-02,\n",
       "        3.14488522e-02, 1.57364096e-02, 7.63352680e-03, 3.89066201e-03,\n",
       "        1.81151460e-03, 1.00861618e-03, 4.53377965e-04, 2.61641029e-04,\n",
       "        1.21832845e-04, 5.39260135e-05, 2.19698574e-05, 7.98903904e-06,\n",
       "        1.19835586e-05, 3.99451952e-06, 5.99177928e-06]),\n",
       " array([ 1.,  2.,  3.,  4.,  5.,  6.,  7.,  8.,  9., 10., 11., 12., 13.,\n",
       "        14., 15., 16., 17., 18., 19., 20.]),\n",
       " <a list of 19 Patch objects>)"
      ]
     },
     "execution_count": 32,
     "metadata": {},
     "output_type": "execute_result"
    },
    {
     "data": {
      "image/png": "[encoded data removed]",
      "text/plain": [
       "<matplotlib.figure.Figure at 0x107f4bda0>"
      ]
     },
     "metadata": {},
     "output_type": "display_data"
    }
   ],
   "source": [
    "plt.hist(c, density=True, bins=c.max()-1)"
   ]
  },
  {
   "cell_type": "code",
   "execution_count": 43,
   "metadata": {},
   "outputs": [
    {
     "data": {
      "text/plain": [
       "2"
      ]
     },
     "execution_count": 43,
     "metadata": {},
     "output_type": "execute_result"
    }
   ],
   "source": [
    "np.sum(c>19)"
   ]
  },
  {
   "cell_type": "code",
   "execution_count": null,
   "metadata": {},
   "outputs": [],
   "source": []
  }
 ],
 "metadata": {
  "kernelspec": {
   "display_name": "Python 3",
   "language": "python",
   "name": "python3"
  },
  "language_info": {
   "codemirror_mode": {
    "name": "ipython",
    "version": 3
   },
   "file_extension": ".py",
   "mimetype": "text/x-python",
   "name": "python",
   "nbconvert_exporter": "python",
   "pygments_lexer": "ipython3",
   "version": "3.6.4"
  }
 },
 "nbformat": 4,
 "nbformat_minor": 2
}
